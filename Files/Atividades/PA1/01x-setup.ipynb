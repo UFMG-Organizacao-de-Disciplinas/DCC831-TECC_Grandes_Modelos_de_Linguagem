{
 "cells": [
  {
   "cell_type": "markdown",
   "metadata": {
    "id": "U4jocXE8Fr94"
   },
   "source": [
    "# Configuração do ambiente"
   ]
  },
  {
   "cell_type": "markdown",
   "metadata": {
    "id": "j8nLNeHfFwUC"
   },
   "source": [
    "Neste exercício vamos importar as bibliotecas que serão necessárias durante o curso, verificar as versões e realizar operações básicas com cada uma, apenas para verificar que está tudo instalado e funcionando. Sua tarefa é executar as células e garantir que não houve erros."
   ]
  },
  {
   "cell_type": "markdown",
   "metadata": {
    "id": "3ZB09E-ZO7dt"
   },
   "source": [
    "## 1. Importando as bibliotecas\n",
    "Vamos importar as bilbiotecas e verificar as versões."
   ]
  },
  {
   "cell_type": "code",
   "execution_count": null,
   "metadata": {
    "id": "v0Or8L6dFmGO"
   },
   "outputs": [],
   "source": [
    "import sys\n",
    "import numpy as np\n",
    "import pandas as pd\n",
    "import torch\n",
    "import tiktoken\n",
    "import tensorflow\n",
    "import tqdm"
   ]
  },
  {
   "cell_type": "code",
   "execution_count": null,
   "metadata": {
    "id": "Sp7WFL8TMRkz"
   },
   "outputs": [],
   "source": [
    "print(\"Versão do Python:\", sys.version)\n",
    "print(\"Versão do NumPy:\", np.__version__)\n",
    "print(\"Versão do Pandas:\", pd.__version__)\n",
    "print(\"Versão do PyTorch:\", torch.__version__)\n",
    "print(\"Versão do tiktoken:\", tiktoken.__version__)\n",
    "print(\"Versão do TensorFlow:\", tensorflow.__version__)\n",
    "print(\"Versão do tqdm:\", tqdm.__version__)"
   ]
  },
  {
   "cell_type": "markdown",
   "metadata": {
    "id": "Gc2FGTkYPPQX"
   },
   "source": [
    "## 2. Operações simples com cada biblioteca"
   ]
  },
  {
   "cell_type": "markdown",
   "metadata": {
    "id": "KNQ9nmXiPTpi"
   },
   "source": [
    "### NumPy: Crie um array e calcule a média"
   ]
  },
  {
   "cell_type": "code",
   "execution_count": null,
   "metadata": {
    "id": "gYUtYTbYPVDp"
   },
   "outputs": [],
   "source": [
    "array = np.array([1, 2, 3, 4, 5])\n",
    "print(\"Média do array:\", np.mean(array))"
   ]
  },
  {
   "cell_type": "markdown",
   "metadata": {
    "id": "uaY52w1wPfVG"
   },
   "source": [
    "### Pandas: Crie um DataFrame e exiba as primeiras linhas"
   ]
  },
  {
   "cell_type": "code",
   "execution_count": null,
   "metadata": {
    "id": "NPxd1VmsPiKG"
   },
   "outputs": [],
   "source": [
    "dados = {'Nome': ['Ana', 'Bruno', 'Carlos', 'Ricardo', 'Maria'], 'Idade': [23, 35, 19, 27, 41]}\n",
    "df = pd.DataFrame(dados)\n",
    "print(\"DataFrame:\")\n",
    "print(df.head())"
   ]
  },
  {
   "cell_type": "markdown",
   "metadata": {
    "id": "g8x7tt2QQBKO"
   },
   "source": [
    "### PyTorch: Crie um tensor e execute uma operação"
   ]
  },
  {
   "cell_type": "code",
   "execution_count": null,
   "metadata": {
    "id": "OJTzO5fMQCN8"
   },
   "outputs": [],
   "source": [
    "x = torch.tensor([1.0, 2.0, 3.0])\n",
    "y = torch.tensor([4.0, 5.0, 6.0])\n",
    "z = x + y\n",
    "print(\"Resultado da soma de tensores:\", z)"
   ]
  },
  {
   "cell_type": "markdown",
   "metadata": {
    "id": "w5iaTpK4QlBc"
   },
   "source": [
    "### tqdm: Use uma barra de progresso em um loop"
   ]
  },
  {
   "cell_type": "code",
   "execution_count": null,
   "metadata": {
    "id": "zn4lrxkBQmQj"
   },
   "outputs": [],
   "source": [
    "from tqdm import tqdm\n",
    "import time\n",
    "\n",
    "print(\"Processando:\")\n",
    "for i in tqdm(range(5)):\n",
    "    time.sleep(0.5)  # simula uma tarefa demorada"
   ]
  },
  {
   "cell_type": "markdown",
   "metadata": {
    "id": "jvremqVfQy7t"
   },
   "source": [
    "### tiktoken: Tokenize uma string com o codificador do modelo GPT-2"
   ]
  },
  {
   "cell_type": "code",
   "execution_count": null,
   "metadata": {
    "id": "FvPrrshqQ3or"
   },
   "outputs": [],
   "source": [
    "enc = tiktoken.get_encoding(\"gpt2\")\n",
    "texto = \"Olá, mundo! Testando a tokenização com tiktoken.\"\n",
    "tokens = enc.encode(texto)\n",
    "print(\"Texto original:\", texto)\n",
    "print(\"Tokens:\", tokens)\n",
    "print(\"Número de tokens:\", len(tokens))"
   ]
  },
  {
   "cell_type": "markdown",
   "metadata": {
    "id": "YRo_eh4fRHYT"
   },
   "source": [
    "## 3. Verificando se há suporte a GPU (CUDA ou MPS)\n",
    "(caso esteja numa máquina com GPU, como NVIDIA ou Apple Silicon)"
   ]
  },
  {
   "cell_type": "code",
   "execution_count": null,
   "metadata": {
    "id": "orzo_-lbROZH"
   },
   "outputs": [],
   "source": [
    "print(\"CUDA disponível:\", torch.cuda.is_available())\n",
    "print(\"MPS disponível:\", getattr(torch.backends, \"mps\", None) and torch.backends.mps.is_available())"
   ]
  }
 ],
 "metadata": {
  "accelerator": "GPU",
  "colab": {
   "gpuType": "T4",
   "provenance": []
  },
  "kernelspec": {
   "display_name": "Python 3 (ipykernel)",
   "language": "python",
   "name": "python3"
  },
  "language_info": {
   "codemirror_mode": {
    "name": "ipython",
    "version": 3
   },
   "file_extension": ".py",
   "mimetype": "text/x-python",
   "name": "python",
   "nbconvert_exporter": "python",
   "pygments_lexer": "ipython3",
   "version": "3.11.12"
  }
 },
 "nbformat": 4,
 "nbformat_minor": 4
}
