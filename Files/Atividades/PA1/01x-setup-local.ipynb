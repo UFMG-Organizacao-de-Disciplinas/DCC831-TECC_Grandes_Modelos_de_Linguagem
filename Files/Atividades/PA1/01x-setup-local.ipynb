{
 "cells": [
  {
   "cell_type": "markdown",
   "metadata": {
    "id": "U4jocXE8Fr94"
   },
   "source": [
    "# Configuração do ambiente"
   ]
  },
  {
   "cell_type": "markdown",
   "metadata": {
    "id": "j8nLNeHfFwUC"
   },
   "source": [
    "Neste exercício vamos importar as bibliotecas que serão necessárias durante o curso, verificar as versões e realizar operações básicas com cada uma, apenas para verificar que está tudo instalado e funcionando. Sua tarefa é executar as células e garantir que não houve erros."
   ]
  },
  {
   "cell_type": "markdown",
   "metadata": {
    "id": "3ZB09E-ZO7dt"
   },
   "source": [
    "## 1. Importando as bibliotecas\n",
    "Vamos importar as bilbiotecas e verificar as versões."
   ]
  },
  {
   "cell_type": "code",
   "execution_count": 1,
   "metadata": {
    "id": "v0Or8L6dFmGO"
   },
   "outputs": [],
   "source": [
    "import sys\n",
    "import numpy as np\n",
    "import pandas as pd\n",
    "import torch\n",
    "import tiktoken\n",
    "import tensorflow\n",
    "import tqdm"
   ]
  },
  {
   "cell_type": "code",
   "execution_count": 2,
   "metadata": {
    "id": "Sp7WFL8TMRkz"
   },
   "outputs": [
    {
     "name": "stdout",
     "output_type": "stream",
     "text": [
      "Versão do Python: 3.11.13 (main, Sep  2 2025, 14:14:37) [MSC v.1944 64 bit (AMD64)]\n",
      "Versão do NumPy: 2.0.2\n",
      "Versão do Pandas: 2.3.2\n",
      "Versão do PyTorch: 2.8.0+cpu\n",
      "Versão do tiktoken: 0.11.0\n",
      "Versão do TensorFlow: 2.20.0\n",
      "Versão do tqdm: 4.67.1\n"
     ]
    }
   ],
   "source": [
    "print(\"Versão do Python:\", sys.version)\n",
    "print(\"Versão do NumPy:\", np.__version__)\n",
    "print(\"Versão do Pandas:\", pd.__version__)\n",
    "print(\"Versão do PyTorch:\", torch.__version__)\n",
    "print(\"Versão do tiktoken:\", tiktoken.__version__)\n",
    "print(\"Versão do TensorFlow:\", tensorflow.__version__)\n",
    "print(\"Versão do tqdm:\", tqdm.__version__)"
   ]
  },
  {
   "cell_type": "markdown",
   "metadata": {
    "id": "Gc2FGTkYPPQX"
   },
   "source": [
    "## 2. Operações simples com cada biblioteca"
   ]
  },
  {
   "cell_type": "markdown",
   "metadata": {
    "id": "KNQ9nmXiPTpi"
   },
   "source": [
    "### NumPy: Crie um array e calcule a média"
   ]
  },
  {
   "cell_type": "code",
   "execution_count": 3,
   "metadata": {
    "id": "gYUtYTbYPVDp"
   },
   "outputs": [
    {
     "name": "stdout",
     "output_type": "stream",
     "text": [
      "Média do array: 3.0\n"
     ]
    }
   ],
   "source": [
    "array = np.array([1, 2, 3, 4, 5])\n",
    "print(\"Média do array:\", np.mean(array))"
   ]
  },
  {
   "cell_type": "markdown",
   "metadata": {
    "id": "uaY52w1wPfVG"
   },
   "source": [
    "### Pandas: Crie um DataFrame e exiba as primeiras linhas"
   ]
  },
  {
   "cell_type": "code",
   "execution_count": 4,
   "metadata": {
    "id": "NPxd1VmsPiKG"
   },
   "outputs": [
    {
     "name": "stdout",
     "output_type": "stream",
     "text": [
      "DataFrame:\n",
      "      Nome  Idade\n",
      "0      Ana     23\n",
      "1    Bruno     35\n",
      "2   Carlos     19\n",
      "3  Ricardo     27\n",
      "4    Maria     41\n"
     ]
    }
   ],
   "source": [
    "dados = {'Nome': ['Ana', 'Bruno', 'Carlos', 'Ricardo', 'Maria'], 'Idade': [23, 35, 19, 27, 41]}\n",
    "df = pd.DataFrame(dados)\n",
    "print(\"DataFrame:\")\n",
    "print(df.head())"
   ]
  },
  {
   "cell_type": "markdown",
   "metadata": {
    "id": "g8x7tt2QQBKO"
   },
   "source": [
    "### PyTorch: Crie um tensor e execute uma operação"
   ]
  },
  {
   "cell_type": "code",
   "execution_count": 5,
   "metadata": {
    "id": "OJTzO5fMQCN8"
   },
   "outputs": [
    {
     "name": "stdout",
     "output_type": "stream",
     "text": [
      "Resultado da soma de tensores: tensor([5., 7., 9.])\n"
     ]
    }
   ],
   "source": [
    "x = torch.tensor([1.0, 2.0, 3.0])\n",
    "y = torch.tensor([4.0, 5.0, 6.0])\n",
    "z = x + y\n",
    "print(\"Resultado da soma de tensores:\", z)"
   ]
  },
  {
   "cell_type": "markdown",
   "metadata": {
    "id": "w5iaTpK4QlBc"
   },
   "source": [
    "### tqdm: Use uma barra de progresso em um loop"
   ]
  },
  {
   "cell_type": "code",
   "execution_count": 6,
   "metadata": {
    "id": "zn4lrxkBQmQj"
   },
   "outputs": [
    {
     "name": "stdout",
     "output_type": "stream",
     "text": [
      "Processando:\n"
     ]
    },
    {
     "name": "stderr",
     "output_type": "stream",
     "text": [
      "100%|█| 5/5 [00:02<00:00,  1.99it/s\n"
     ]
    }
   ],
   "source": [
    "from tqdm import tqdm\n",
    "import time\n",
    "\n",
    "print(\"Processando:\")\n",
    "for i in tqdm(range(5)):\n",
    "    time.sleep(0.5)  # simula uma tarefa demorada"
   ]
  },
  {
   "cell_type": "markdown",
   "metadata": {
    "id": "jvremqVfQy7t"
   },
   "source": [
    "### tiktoken: Tokenize uma string com o codificador do modelo GPT-2"
   ]
  },
  {
   "cell_type": "code",
   "execution_count": 7,
   "metadata": {
    "id": "FvPrrshqQ3or"
   },
   "outputs": [
    {
     "name": "stdout",
     "output_type": "stream",
     "text": [
      "Texto original: Olá, mundo! Testando a tokenização com tiktoken.\n",
      "Tokens: [30098, 6557, 11, 27943, 78, 0, 6208, 25440, 257, 11241, 23638, 16175, 28749, 401, 256, 1134, 30001, 13]\n",
      "Número de tokens: 18\n"
     ]
    }
   ],
   "source": [
    "enc = tiktoken.get_encoding(\"gpt2\")\n",
    "texto = \"Olá, mundo! Testando a tokenização com tiktoken.\"\n",
    "tokens = enc.encode(texto)\n",
    "print(\"Texto original:\", texto)\n",
    "print(\"Tokens:\", tokens)\n",
    "print(\"Número de tokens:\", len(tokens))"
   ]
  },
  {
   "cell_type": "markdown",
   "metadata": {
    "id": "YRo_eh4fRHYT"
   },
   "source": [
    "## 3. Verificando se há suporte a GPU (CUDA ou MPS)\n",
    "(caso esteja numa máquina com GPU, como NVIDIA ou Apple Silicon)"
   ]
  },
  {
   "cell_type": "code",
   "execution_count": 8,
   "metadata": {
    "id": "orzo_-lbROZH"
   },
   "outputs": [
    {
     "name": "stdout",
     "output_type": "stream",
     "text": [
      "CUDA disponível: False\n",
      "MPS disponível: False\n"
     ]
    }
   ],
   "source": [
    "print(\"CUDA disponível:\", torch.cuda.is_available())\n",
    "print(\"MPS disponível:\", getattr(torch.backends, \"mps\", None) and torch.backends.mps.is_available())"
   ]
  }
 ],
 "metadata": {
  "accelerator": "GPU",
  "colab": {
   "gpuType": "T4",
   "provenance": []
  },
  "kernelspec": {
   "display_name": "Python 3 (ipykernel)",
   "language": "python",
   "name": "python3"
  },
  "language_info": {
   "codemirror_mode": {
    "name": "ipython",
    "version": 3
   },
   "file_extension": ".py",
   "mimetype": "text/x-python",
   "name": "python",
   "nbconvert_exporter": "python",
   "pygments_lexer": "ipython3",
   "version": "3.11.13"
  }
 },
 "nbformat": 4,
 "nbformat_minor": 4
}
